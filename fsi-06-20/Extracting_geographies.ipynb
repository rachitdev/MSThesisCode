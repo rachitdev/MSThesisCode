{
 "cells": [
  {
   "cell_type": "code",
   "execution_count": 7,
   "metadata": {},
   "outputs": [
    {
     "data": {
      "text/html": [
       "<div>\n",
       "<style scoped>\n",
       "    .dataframe tbody tr th:only-of-type {\n",
       "        vertical-align: middle;\n",
       "    }\n",
       "\n",
       "    .dataframe tbody tr th {\n",
       "        vertical-align: top;\n",
       "    }\n",
       "\n",
       "    .dataframe thead th {\n",
       "        text-align: right;\n",
       "    }\n",
       "</style>\n",
       "<table border=\"1\" class=\"dataframe\">\n",
       "  <thead>\n",
       "    <tr style=\"text-align: right;\">\n",
       "      <th></th>\n",
       "      <th>Year</th>\n",
       "      <th>Text</th>\n",
       "    </tr>\n",
       "  </thead>\n",
       "  <tbody>\n",
       "    <tr>\n",
       "      <th>0</th>\n",
       "      <td>2006</td>\n",
       "      <td>– Stanley Cup Western Conference Finals (Edmo...</td>\n",
       "    </tr>\n",
       "    <tr>\n",
       "      <th>1</th>\n",
       "      <td>2006</td>\n",
       "      <td>– Cartoon riots[]</td>\n",
       "    </tr>\n",
       "    <tr>\n",
       "      <th>2</th>\n",
       "      <td>2006</td>\n",
       "      <td>–  Nuku'alofa riots, November  (Nuku'alofa, T...</td>\n",
       "    </tr>\n",
       "    <tr>\n",
       "      <th>3</th>\n",
       "      <td>2006</td>\n",
       "      <td>–  Dublin riots, February  (Dublin, Ireland)</td>\n",
       "    </tr>\n",
       "    <tr>\n",
       "      <th>4</th>\n",
       "      <td>2006</td>\n",
       "      <td>– San Bernardino punk riot, March  San Bernar...</td>\n",
       "    </tr>\n",
       "  </tbody>\n",
       "</table>\n",
       "</div>"
      ],
      "text/plain": [
       "   Year                                               Text\n",
       "0  2006   – Stanley Cup Western Conference Finals (Edmo...\n",
       "1  2006                                  – Cartoon riots[]\n",
       "2  2006   –  Nuku'alofa riots, November  (Nuku'alofa, T...\n",
       "3  2006       –  Dublin riots, February  (Dublin, Ireland)\n",
       "4  2006   – San Bernardino punk riot, March  San Bernar..."
      ]
     },
     "execution_count": 7,
     "metadata": {},
     "output_type": "execute_result"
    }
   ],
   "source": [
    "import pandas as pd\n",
    "import spacy\n",
    "nlp = spacy.load('en_core_web_sm')\n",
    "df = pd.read_excel(\"riots.xlsx\")\n",
    "df['Text'] = df['Text'].str.replace('\\d+', '')\n",
    "df.head()"
   ]
  },
  {
   "cell_type": "code",
   "execution_count": 16,
   "metadata": {},
   "outputs": [
    {
     "name": "stdout",
     "output_type": "stream",
     "text": [
      " – Stanley Cup Western Conference Finals (Edmonton Oilers victory), May , Edmonton, Alberta, Canada[]\n",
      "Alberta - GPE\n",
      "Canada - GPE\n"
     ]
    }
   ],
   "source": [
    "text = nlp(df.Text[0])\n",
    "print(text)\n",
    "for ent in text.ents:\n",
    "    if ent.label_ == \"GPE\":\n",
    "        print(ent.text+' - '+ent.label_)"
   ]
  },
  {
   "cell_type": "code",
   "execution_count": 31,
   "metadata": {},
   "outputs": [
    {
     "data": {
      "text/html": [
       "<div>\n",
       "<style scoped>\n",
       "    .dataframe tbody tr th:only-of-type {\n",
       "        vertical-align: middle;\n",
       "    }\n",
       "\n",
       "    .dataframe tbody tr th {\n",
       "        vertical-align: top;\n",
       "    }\n",
       "\n",
       "    .dataframe thead th {\n",
       "        text-align: right;\n",
       "    }\n",
       "</style>\n",
       "<table border=\"1\" class=\"dataframe\">\n",
       "  <thead>\n",
       "    <tr style=\"text-align: right;\">\n",
       "      <th></th>\n",
       "      <th>Year</th>\n",
       "      <th>Text</th>\n",
       "      <th>Entities</th>\n",
       "    </tr>\n",
       "  </thead>\n",
       "  <tbody>\n",
       "    <tr>\n",
       "      <th>0</th>\n",
       "      <td>2006</td>\n",
       "      <td>– Stanley Cup Western Conference Finals (Edmo...</td>\n",
       "      <td>[( , –), (Edmonton, Oilers), (May), (Edmonton)...</td>\n",
       "    </tr>\n",
       "    <tr>\n",
       "      <th>1</th>\n",
       "      <td>2006</td>\n",
       "      <td>– Cartoon riots[]</td>\n",
       "      <td>[( , –, Cartoon)]</td>\n",
       "    </tr>\n",
       "    <tr>\n",
       "      <th>2</th>\n",
       "      <td>2006</td>\n",
       "      <td>–  Nuku'alofa riots, November  (Nuku'alofa, T...</td>\n",
       "      <td>[(November), (Tonga)]</td>\n",
       "    </tr>\n",
       "    <tr>\n",
       "      <th>3</th>\n",
       "      <td>2006</td>\n",
       "      <td>–  Dublin riots, February  (Dublin, Ireland)</td>\n",
       "      <td>[(Dublin), (February), (Dublin), (Ireland)]</td>\n",
       "    </tr>\n",
       "    <tr>\n",
       "      <th>4</th>\n",
       "      <td>2006</td>\n",
       "      <td>– San Bernardino punk riot, March  San Bernar...</td>\n",
       "      <td>[( , –), (March,  , San, Bernardino), (Califor...</td>\n",
       "    </tr>\n",
       "  </tbody>\n",
       "</table>\n",
       "</div>"
      ],
      "text/plain": [
       "   Year                                               Text  \\\n",
       "0  2006   – Stanley Cup Western Conference Finals (Edmo...   \n",
       "1  2006                                  – Cartoon riots[]   \n",
       "2  2006   –  Nuku'alofa riots, November  (Nuku'alofa, T...   \n",
       "3  2006       –  Dublin riots, February  (Dublin, Ireland)   \n",
       "4  2006   – San Bernardino punk riot, March  San Bernar...   \n",
       "\n",
       "                                            Entities  \n",
       "0  [( , –), (Edmonton, Oilers), (May), (Edmonton)...  \n",
       "1                                  [( , –, Cartoon)]  \n",
       "2                              [(November), (Tonga)]  \n",
       "3        [(Dublin), (February), (Dublin), (Ireland)]  \n",
       "4  [( , –), (March,  , San, Bernardino), (Califor...  "
      ]
     },
     "execution_count": 31,
     "metadata": {},
     "output_type": "execute_result"
    }
   ],
   "source": [
    "df['Entities'] = df['Text'].apply(lambda x: list(nlp(x).ents))\n",
    "df.head()"
   ]
  },
  {
   "cell_type": "code",
   "execution_count": 50,
   "metadata": {},
   "outputs": [
    {
     "name": "stdout",
     "output_type": "stream",
     "text": [
      "['Canada']\n"
     ]
    }
   ],
   "source": [
    "from geotext import GeoText\n",
    "places = GeoText(df.Text[0])\n",
    "print (places.countries)"
   ]
  },
  {
   "cell_type": "code",
   "execution_count": 44,
   "metadata": {},
   "outputs": [],
   "source": [
    "df['Countries'] = df['Text'].apply(lambda x: list(GeoText(x).countries))"
   ]
  },
  {
   "cell_type": "code",
   "execution_count": 46,
   "metadata": {},
   "outputs": [],
   "source": [
    "df['Cities'] = df['Text'].apply(lambda x: list(GeoText(x).cities))"
   ]
  },
  {
   "cell_type": "code",
   "execution_count": 47,
   "metadata": {},
   "outputs": [
    {
     "data": {
      "text/html": [
       "<div>\n",
       "<style scoped>\n",
       "    .dataframe tbody tr th:only-of-type {\n",
       "        vertical-align: middle;\n",
       "    }\n",
       "\n",
       "    .dataframe tbody tr th {\n",
       "        vertical-align: top;\n",
       "    }\n",
       "\n",
       "    .dataframe thead th {\n",
       "        text-align: right;\n",
       "    }\n",
       "</style>\n",
       "<table border=\"1\" class=\"dataframe\">\n",
       "  <thead>\n",
       "    <tr style=\"text-align: right;\">\n",
       "      <th></th>\n",
       "      <th>Year</th>\n",
       "      <th>Text</th>\n",
       "      <th>Entities</th>\n",
       "      <th>Countries</th>\n",
       "      <th>Cities</th>\n",
       "    </tr>\n",
       "  </thead>\n",
       "  <tbody>\n",
       "    <tr>\n",
       "      <th>0</th>\n",
       "      <td>2006</td>\n",
       "      <td>– Stanley Cup Western Conference Finals (Edmo...</td>\n",
       "      <td>[( , –), (Edmonton, Oilers), (May), (Edmonton)...</td>\n",
       "      <td>[Canada]</td>\n",
       "      <td>[Edmonton]</td>\n",
       "    </tr>\n",
       "    <tr>\n",
       "      <th>1</th>\n",
       "      <td>2006</td>\n",
       "      <td>– Cartoon riots[]</td>\n",
       "      <td>[( , –, Cartoon)]</td>\n",
       "      <td>[]</td>\n",
       "      <td>[]</td>\n",
       "    </tr>\n",
       "    <tr>\n",
       "      <th>2</th>\n",
       "      <td>2006</td>\n",
       "      <td>–  Nuku'alofa riots, November  (Nuku'alofa, T...</td>\n",
       "      <td>[(November), (Tonga)]</td>\n",
       "      <td>[Tonga]</td>\n",
       "      <td>[]</td>\n",
       "    </tr>\n",
       "    <tr>\n",
       "      <th>3</th>\n",
       "      <td>2006</td>\n",
       "      <td>–  Dublin riots, February  (Dublin, Ireland)</td>\n",
       "      <td>[(Dublin), (February), (Dublin), (Ireland)]</td>\n",
       "      <td>[Ireland]</td>\n",
       "      <td>[Dublin, Dublin]</td>\n",
       "    </tr>\n",
       "    <tr>\n",
       "      <th>4</th>\n",
       "      <td>2006</td>\n",
       "      <td>– San Bernardino punk riot, March  San Bernar...</td>\n",
       "      <td>[( , –), (March,  , San, Bernardino), (Califor...</td>\n",
       "      <td>[]</td>\n",
       "      <td>[San Bernardino, March, San Bernardino]</td>\n",
       "    </tr>\n",
       "  </tbody>\n",
       "</table>\n",
       "</div>"
      ],
      "text/plain": [
       "   Year                                               Text  \\\n",
       "0  2006   – Stanley Cup Western Conference Finals (Edmo...   \n",
       "1  2006                                  – Cartoon riots[]   \n",
       "2  2006   –  Nuku'alofa riots, November  (Nuku'alofa, T...   \n",
       "3  2006       –  Dublin riots, February  (Dublin, Ireland)   \n",
       "4  2006   – San Bernardino punk riot, March  San Bernar...   \n",
       "\n",
       "                                            Entities  Countries  \\\n",
       "0  [( , –), (Edmonton, Oilers), (May), (Edmonton)...   [Canada]   \n",
       "1                                  [( , –, Cartoon)]         []   \n",
       "2                              [(November), (Tonga)]    [Tonga]   \n",
       "3        [(Dublin), (February), (Dublin), (Ireland)]  [Ireland]   \n",
       "4  [( , –), (March,  , San, Bernardino), (Califor...         []   \n",
       "\n",
       "                                    Cities  \n",
       "0                               [Edmonton]  \n",
       "1                                       []  \n",
       "2                                       []  \n",
       "3                         [Dublin, Dublin]  \n",
       "4  [San Bernardino, March, San Bernardino]  "
      ]
     },
     "execution_count": 47,
     "metadata": {},
     "output_type": "execute_result"
    }
   ],
   "source": [
    "df.head()"
   ]
  },
  {
   "cell_type": "code",
   "execution_count": 51,
   "metadata": {},
   "outputs": [],
   "source": [
    "df.to_csv(\"updated_riots.csv\",index = False)"
   ]
  },
  {
   "cell_type": "code",
   "execution_count": null,
   "metadata": {},
   "outputs": [],
   "source": []
  }
 ],
 "metadata": {
  "kernelspec": {
   "display_name": "Python 3",
   "language": "python",
   "name": "python3"
  },
  "language_info": {
   "codemirror_mode": {
    "name": "ipython",
    "version": 3
   },
   "file_extension": ".py",
   "mimetype": "text/x-python",
   "name": "python",
   "nbconvert_exporter": "python",
   "pygments_lexer": "ipython3",
   "version": "3.7.4"
  }
 },
 "nbformat": 4,
 "nbformat_minor": 2
}
