{
 "cells": [
  {
   "cell_type": "markdown",
   "metadata": {},
   "source": [
    "# List of Riots Data Extraction from Wikipedia.org "
   ]
  },
  {
   "cell_type": "code",
   "execution_count": 1,
   "metadata": {},
   "outputs": [],
   "source": [
    "import pandas as pd\n",
    "import wikipedia as wp"
   ]
  },
  {
   "cell_type": "markdown",
   "metadata": {},
   "source": [
    "#### Getting the data and splitting it in the lines"
   ]
  },
  {
   "cell_type": "code",
   "execution_count": 2,
   "metadata": {},
   "outputs": [],
   "source": [
    "text_data = list(wp.page(\"List of riots\").content.splitlines())"
   ]
  },
  {
   "cell_type": "markdown",
   "metadata": {},
   "source": [
    "#### Cleaning the Data"
   ]
  },
  {
   "cell_type": "code",
   "execution_count": 3,
   "metadata": {},
   "outputs": [],
   "source": [
    "years = ['2006', '2007', '2008', '2009', '2010', '2011', '2012', '2013', '2014', '2015', '2016',\n",
    "    '2017', '2018', '2019', '2020', '2021', '2022', '2023', '2024', '2025']\n",
    "months = ['January', 'January:', 'February', 'February:', 'March', 'March:', 'April', 'April:',\n",
    "          'May', 'May:', 'June', 'June:', 'July', 'July:', 'August', 'August:', 'September',\n",
    "          'September:', 'October', 'October:', 'November', 'November:', 'December', 'December:']\n",
    "el = []"
   ]
  },
  {
   "cell_type": "code",
   "execution_count": 4,
   "metadata": {},
   "outputs": [],
   "source": [
    "clean_text_data = list(filter(None, text_data))        "
   ]
  },
  {
   "cell_type": "code",
   "execution_count": 5,
   "metadata": {},
   "outputs": [],
   "source": [
    "for item in clean_text_data:\n",
    "    tl = list(item.split(' '))\n",
    "    if tl[0] in years:\n",
    "        el.append(item)\n",
    "    elif tl[0] == \"====\":\n",
    "        year = tl[1]\n",
    "    elif tl[0] in months:\n",
    "        el.append(year + \" - \" + item)"
   ]
  },
  {
   "cell_type": "code",
   "execution_count": 6,
   "metadata": {},
   "outputs": [],
   "source": [
    "tly = []\n",
    "tlt = []\n",
    "for item in el:\n",
    "    tl = list(item.split(' '))\n",
    "    tly.append(tl[0])\n",
    "    tlt.append(tl[2:])"
   ]
  },
  {
   "cell_type": "code",
   "execution_count": 7,
   "metadata": {},
   "outputs": [],
   "source": [
    "tlt2 = []\n",
    "for sentences in tlt:\n",
    "    tlt2.append([[' '.join(i)] for i in tlt])"
   ]
  },
  {
   "cell_type": "code",
   "execution_count": 8,
   "metadata": {},
   "outputs": [],
   "source": [
    "import itertools\n",
    "tlt3 = list(itertools.chain.from_iterable(tlt2))\n",
    "tlt4 = list(itertools.chain.from_iterable(tlt3))"
   ]
  },
  {
   "cell_type": "markdown",
   "metadata": {},
   "source": [
    "So Finally we have the years list tly and the text list tlt4. Now we will make a dataframe out of these both"
   ]
  },
  {
   "cell_type": "code",
   "execution_count": 9,
   "metadata": {},
   "outputs": [],
   "source": [
    "df = pd.DataFrame(list(zip(tly, tlt4)), \n",
    "               columns =['Year', 'Text']) "
   ]
  },
  {
   "cell_type": "code",
   "execution_count": 10,
   "metadata": {},
   "outputs": [
    {
     "data": {
      "text/html": [
       "<div>\n",
       "<style scoped>\n",
       "    .dataframe tbody tr th:only-of-type {\n",
       "        vertical-align: middle;\n",
       "    }\n",
       "\n",
       "    .dataframe tbody tr th {\n",
       "        vertical-align: top;\n",
       "    }\n",
       "\n",
       "    .dataframe thead th {\n",
       "        text-align: right;\n",
       "    }\n",
       "</style>\n",
       "<table border=\"1\" class=\"dataframe\">\n",
       "  <thead>\n",
       "    <tr style=\"text-align: right;\">\n",
       "      <th></th>\n",
       "      <th>Year</th>\n",
       "      <th>Text</th>\n",
       "    </tr>\n",
       "  </thead>\n",
       "  <tbody>\n",
       "    <tr>\n",
       "      <th>382</th>\n",
       "      <td>2020</td>\n",
       "      <td>August 29: Riots in Malmö, Sweden: about 300 p...</td>\n",
       "    </tr>\n",
       "    <tr>\n",
       "      <th>383</th>\n",
       "      <td>2020</td>\n",
       "      <td>September 25: DR Congo jail riots, mass rape o...</td>\n",
       "    </tr>\n",
       "    <tr>\n",
       "      <th>384</th>\n",
       "      <td>2020</td>\n",
       "      <td>October 25: Riots in Nigeria, at least 12 peop...</td>\n",
       "    </tr>\n",
       "    <tr>\n",
       "      <th>385</th>\n",
       "      <td>2020</td>\n",
       "      <td>October 29: Prison riots in Herat, Afghanistan...</td>\n",
       "    </tr>\n",
       "    <tr>\n",
       "      <th>386</th>\n",
       "      <td>2020</td>\n",
       "      <td>December 7-9: Riots in Indonesia by followers ...</td>\n",
       "    </tr>\n",
       "  </tbody>\n",
       "</table>\n",
       "</div>"
      ],
      "text/plain": [
       "     Year                                               Text\n",
       "382  2020  August 29: Riots in Malmö, Sweden: about 300 p...\n",
       "383  2020  September 25: DR Congo jail riots, mass rape o...\n",
       "384  2020  October 25: Riots in Nigeria, at least 12 peop...\n",
       "385  2020  October 29: Prison riots in Herat, Afghanistan...\n",
       "386  2020  December 7-9: Riots in Indonesia by followers ..."
      ]
     },
     "execution_count": 10,
     "metadata": {},
     "output_type": "execute_result"
    }
   ],
   "source": [
    "df.tail()"
   ]
  },
  {
   "cell_type": "markdown",
   "metadata": {},
   "source": [
    "#### Using NLP to extract the countries and other important information"
   ]
  },
  {
   "cell_type": "code",
   "execution_count": 11,
   "metadata": {},
   "outputs": [
    {
     "name": "stderr",
     "output_type": "stream",
     "text": [
      "C:\\ProgramData\\Anaconda3\\lib\\site-packages\\spacy\\util.py:275: UserWarning: [W031] Model 'en_core_web_sm' (2.2.0) requires spaCy v2.2 and is incompatible with the current spaCy version (2.3.5). This may lead to unexpected results or runtime errors. To resolve this, download a newer compatible model or retrain your custom model with the current spaCy version. For more details and available updates, run: python -m spacy validate\n",
      "  warnings.warn(warn_msg)\n"
     ]
    }
   ],
   "source": [
    "import en_core_web_sm\n",
    "nlp = en_core_web_sm.load()"
   ]
  },
  {
   "cell_type": "code",
   "execution_count": 12,
   "metadata": {},
   "outputs": [
    {
     "name": "stdout",
     "output_type": "stream",
     "text": [
      "Stanley Cup Western Conference Finals (Edmonton Oilers victory), May 2006, Edmonton, Alberta, Canada\n",
      "Edmonton - GPE\n",
      "Alberta - GPE\n",
      "Canada - GPE\n"
     ]
    }
   ],
   "source": [
    "text = nlp(df.Text[0])\n",
    "print(text)\n",
    "for ent in text.ents:\n",
    "    if ent.label_ == \"GPE\":\n",
    "        print(ent.text+' - '+ent.label_)"
   ]
  },
  {
   "cell_type": "code",
   "execution_count": 13,
   "metadata": {},
   "outputs": [],
   "source": [
    "df['Entities'] = df['Text'].apply(lambda x: list(nlp(x).ents))"
   ]
  },
  {
   "cell_type": "code",
   "execution_count": 14,
   "metadata": {},
   "outputs": [],
   "source": [
    "from geotext import GeoText\n",
    "places = GeoText(df.Text[0])"
   ]
  },
  {
   "cell_type": "code",
   "execution_count": 15,
   "metadata": {},
   "outputs": [],
   "source": [
    "df['Countries'] = df['Text'].apply(lambda x: list(GeoText(x).countries))"
   ]
  },
  {
   "cell_type": "code",
   "execution_count": 16,
   "metadata": {},
   "outputs": [],
   "source": [
    "df['Cities'] = df['Text'].apply(lambda x: list(GeoText(x).cities))"
   ]
  },
  {
   "cell_type": "code",
   "execution_count": 17,
   "metadata": {},
   "outputs": [],
   "source": [
    "l = ['Year', 'Text', 'Entities', 'Countries', 'Cities']\n",
    "df[l] = df[l].astype('str')"
   ]
  },
  {
   "cell_type": "markdown",
   "metadata": {},
   "source": [
    "#### Cleaning the text data after extraction"
   ]
  },
  {
   "cell_type": "code",
   "execution_count": 18,
   "metadata": {},
   "outputs": [],
   "source": [
    "# Importing regular expressions\n",
    "import re"
   ]
  },
  {
   "cell_type": "code",
   "execution_count": 19,
   "metadata": {},
   "outputs": [],
   "source": [
    "def cleanData(series):\n",
    "    return series.str.lower().str.replace(r\"[^a-z0-9\\s]\", \"\").str.strip()    "
   ]
  },
  {
   "cell_type": "code",
   "execution_count": 20,
   "metadata": {},
   "outputs": [],
   "source": [
    "for i in l:\n",
    "    df[i] = cleanData(df[i])"
   ]
  },
  {
   "cell_type": "code",
   "execution_count": 21,
   "metadata": {},
   "outputs": [
    {
     "data": {
      "text/html": [
       "<div>\n",
       "<style scoped>\n",
       "    .dataframe tbody tr th:only-of-type {\n",
       "        vertical-align: middle;\n",
       "    }\n",
       "\n",
       "    .dataframe tbody tr th {\n",
       "        vertical-align: top;\n",
       "    }\n",
       "\n",
       "    .dataframe thead th {\n",
       "        text-align: right;\n",
       "    }\n",
       "</style>\n",
       "<table border=\"1\" class=\"dataframe\">\n",
       "  <thead>\n",
       "    <tr style=\"text-align: right;\">\n",
       "      <th></th>\n",
       "      <th>Year</th>\n",
       "      <th>Text</th>\n",
       "      <th>Entities</th>\n",
       "      <th>Countries</th>\n",
       "      <th>Cities</th>\n",
       "    </tr>\n",
       "  </thead>\n",
       "  <tbody>\n",
       "    <tr>\n",
       "      <th>0</th>\n",
       "      <td>2006</td>\n",
       "      <td>stanley cup western conference finals edmonton...</td>\n",
       "      <td>stanley cup western conference finals edmonton...</td>\n",
       "      <td>canada</td>\n",
       "      <td>edmonton</td>\n",
       "    </tr>\n",
       "    <tr>\n",
       "      <th>1</th>\n",
       "      <td>2006</td>\n",
       "      <td>cartoon riots</td>\n",
       "      <td></td>\n",
       "      <td></td>\n",
       "      <td></td>\n",
       "    </tr>\n",
       "    <tr>\n",
       "      <th>2</th>\n",
       "      <td>2006</td>\n",
       "      <td>2006 nukualofa riots november 16 nukualofa tonga</td>\n",
       "      <td>2006 november 16 tonga</td>\n",
       "      <td>tonga</td>\n",
       "      <td></td>\n",
       "    </tr>\n",
       "    <tr>\n",
       "      <th>3</th>\n",
       "      <td>2006</td>\n",
       "      <td>2006 dublin riots february 25 dublin ireland</td>\n",
       "      <td>2006 dublin february 25 dublin ireland</td>\n",
       "      <td>ireland</td>\n",
       "      <td>dublin dublin</td>\n",
       "    </tr>\n",
       "    <tr>\n",
       "      <th>4</th>\n",
       "      <td>2006</td>\n",
       "      <td>san bernardino punk riot march 4 san bernardin...</td>\n",
       "      <td>san bernardino march 4 san bernardino california</td>\n",
       "      <td></td>\n",
       "      <td>san bernardino march san bernardino</td>\n",
       "    </tr>\n",
       "  </tbody>\n",
       "</table>\n",
       "</div>"
      ],
      "text/plain": [
       "   Year                                               Text  \\\n",
       "0  2006  stanley cup western conference finals edmonton...   \n",
       "1  2006                                      cartoon riots   \n",
       "2  2006   2006 nukualofa riots november 16 nukualofa tonga   \n",
       "3  2006       2006 dublin riots february 25 dublin ireland   \n",
       "4  2006  san bernardino punk riot march 4 san bernardin...   \n",
       "\n",
       "                                            Entities Countries  \\\n",
       "0  stanley cup western conference finals edmonton...    canada   \n",
       "1                                                                \n",
       "2                             2006 november 16 tonga     tonga   \n",
       "3             2006 dublin february 25 dublin ireland   ireland   \n",
       "4   san bernardino march 4 san bernardino california             \n",
       "\n",
       "                                Cities  \n",
       "0                             edmonton  \n",
       "1                                       \n",
       "2                                       \n",
       "3                        dublin dublin  \n",
       "4  san bernardino march san bernardino  "
      ]
     },
     "execution_count": 21,
     "metadata": {},
     "output_type": "execute_result"
    }
   ],
   "source": [
    "df.head()"
   ]
  },
  {
   "cell_type": "code",
   "execution_count": 23,
   "metadata": {},
   "outputs": [],
   "source": [
    "df.to_excel('riotsListWiki.xlsx', engine='xlsxwriter')"
   ]
  },
  {
   "cell_type": "markdown",
   "metadata": {},
   "source": [
    "Now we have to manually check for the missing countries which have been missed using excel."
   ]
  }
 ],
 "metadata": {
  "kernelspec": {
   "display_name": "Python 3",
   "language": "python",
   "name": "python3"
  },
  "language_info": {
   "codemirror_mode": {
    "name": "ipython",
    "version": 3
   },
   "file_extension": ".py",
   "mimetype": "text/x-python",
   "name": "python",
   "nbconvert_exporter": "python",
   "pygments_lexer": "ipython3",
   "version": "3.7.7"
  }
 },
 "nbformat": 4,
 "nbformat_minor": 4
}
